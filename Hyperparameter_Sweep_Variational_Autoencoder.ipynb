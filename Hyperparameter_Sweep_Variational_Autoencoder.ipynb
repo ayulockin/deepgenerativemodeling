{
  "nbformat": 4,
  "nbformat_minor": 0,
  "metadata": {
    "colab": {
      "name": "Hyperparameter Sweep Variational Autoencoder",
      "provenance": [],
      "authorship_tag": "ABX9TyNg3Biv/UPCcBNsCRSXL7yv",
      "include_colab_link": true
    },
    "kernelspec": {
      "name": "python3",
      "display_name": "Python 3"
    },
    "accelerator": "GPU"
  },
  "cells": [
    {
      "cell_type": "markdown",
      "metadata": {
        "id": "view-in-github",
        "colab_type": "text"
      },
      "source": [
        "<a href=\"https://colab.research.google.com/github/ayulockin/deepgenerativemodeling/blob/master/Hyperparameter_Sweep_Variational_Autoencoder.ipynb\" target=\"_parent\"><img src=\"https://colab.research.google.com/assets/colab-badge.svg\" alt=\"Open In Colab\"/></a>"
      ]
    },
    {
      "cell_type": "markdown",
      "metadata": {
        "id": "9U4eqN-N5P45",
        "colab_type": "text"
      },
      "source": [
        "# Setups, Imports and Installations"
      ]
    },
    {
      "cell_type": "code",
      "metadata": {
        "id": "F2Pas_u35J5Q",
        "colab_type": "code",
        "outputId": "9e9d8d29-0d18-468e-de60-5dd93c9aa147",
        "colab": {
          "base_uri": "https://localhost:8080/",
          "height": 35
        }
      },
      "source": [
        "import tensorflow as tf\n",
        "print(tf.__version__)\n",
        "\n",
        "from tensorflow import keras\n",
        "import tensorflow.keras.backend as K"
      ],
      "execution_count": 0,
      "outputs": [
        {
          "output_type": "stream",
          "text": [
            "2.2.0-rc2\n"
          ],
          "name": "stdout"
        }
      ]
    },
    {
      "cell_type": "code",
      "metadata": {
        "id": "EdNuACCZ5sgz",
        "colab_type": "code",
        "colab": {}
      },
      "source": [
        "%%capture\n",
        "!pip install wandb\n",
        "\n",
        "import wandb\n",
        "from wandb.keras import WandbCallback\n",
        "\n",
        "!wandb login 69f60a7711ce6b8bbae91ac6d15e45d6b1f1430e"
      ],
      "execution_count": 0,
      "outputs": []
    },
    {
      "cell_type": "code",
      "metadata": {
        "id": "pcd2uWQJ5wRj",
        "colab_type": "code",
        "colab": {}
      },
      "source": [
        "import os\n",
        "import numpy as np\n",
        "import matplotlib.pyplot as plt\n",
        "\n",
        "%matplotlib inline\n",
        "\n",
        "from tqdm.notebook import tqdm"
      ],
      "execution_count": 0,
      "outputs": []
    },
    {
      "cell_type": "markdown",
      "metadata": {
        "id": "ST4D3VC37ux8",
        "colab_type": "text"
      },
      "source": [
        "# Let's use MNIST Dataset"
      ]
    },
    {
      "cell_type": "code",
      "metadata": {
        "id": "A5mg4qlY7ncx",
        "colab_type": "code",
        "outputId": "8c96c43b-782b-452b-b849-f58bd41c6394",
        "colab": {
          "base_uri": "https://localhost:8080/",
          "height": 109
        }
      },
      "source": [
        "from keras.datasets import mnist\n",
        "\n",
        "# MNIST dataset\n",
        "(train_img, train_label), (test_img, test_label) = mnist.load_data()\n",
        "\n",
        "image_size = train_img.shape[1]\n",
        "original_dim = image_size * image_size\n",
        "train_img = np.reshape(train_img, [-1, original_dim])\n",
        "test_img = np.reshape(test_img, [-1, original_dim])\n",
        "train_img = train_img.astype('float32') / 255\n",
        "test_img = test_img.astype('float32') / 255\n",
        "\n",
        "## Just dataset info\n",
        "print(\"X_train: \", train_img.shape)\n",
        "print(\"X_test: \", test_img.shape)"
      ],
      "execution_count": 0,
      "outputs": [
        {
          "output_type": "stream",
          "text": [
            "Using TensorFlow backend.\n"
          ],
          "name": "stderr"
        },
        {
          "output_type": "stream",
          "text": [
            "Downloading data from https://s3.amazonaws.com/img-datasets/mnist.npz\n",
            "11493376/11490434 [==============================] - 1s 0us/step\n",
            "X_train:  (60000, 784)\n",
            "X_test:  (10000, 784)\n"
          ],
          "name": "stdout"
        }
      ]
    },
    {
      "cell_type": "markdown",
      "metadata": {
        "id": "a9DLCOH2ZBub",
        "colab_type": "text"
      },
      "source": [
        "# Model"
      ]
    },
    {
      "cell_type": "code",
      "metadata": {
        "id": "E9_fN41-8MGo",
        "colab_type": "code",
        "colab": {}
      },
      "source": [
        "class VariationalAutoencoder:\n",
        "  def __init__(self, input_shape, original_dim, intermediate_dim, latent_dim):\n",
        "    self.input_shape = input_shape\n",
        "    self.original_dim = original_dim\n",
        "    self.intermediate_dim = intermediate_dim\n",
        "    self.latent_dim = latent_dim\n",
        "\n",
        "  def build_model(self):\n",
        "    # instantiate VAE model\n",
        "    self.build_encoder()\n",
        "    self.build_decoder()\n",
        "\n",
        "    self.outputs = self.decoder(self.encoder(self.inputs)[2])\n",
        "\n",
        "    self.vae = keras.models.Model(self.inputs, self.outputs, name='vae_mlp')\n",
        "    self.add_loss()\n",
        "\n",
        "    return self.vae\n",
        "\n",
        "  def sampling(self, args):\n",
        "      z_mean, z_log_var = args\n",
        "      batch = K.shape(z_mean)[0]\n",
        "      dim = K.int_shape(z_mean)[1]\n",
        "      # by default, random_normal has mean = 0 and std = 1.0\n",
        "      epsilon = K.random_normal(shape=(batch, dim))\n",
        "      return z_mean + K.exp(0.5 * z_log_var) * epsilon\n",
        "\n",
        "  def build_encoder(self):\n",
        "    self.inputs = keras.layers.Input(shape=self.input_shape, name='encoder_input')\n",
        "    x = keras.layers.Dense(self.intermediate_dim, activation='relu')(self.inputs)\n",
        "    self.z_mean = keras.layers.Dense(self.latent_dim, name='z_mean')(x)\n",
        "    self.z_log_var = keras.layers.Dense(self.latent_dim, name='z_log_var')(x)\n",
        "\n",
        "    self.z = keras.layers.Lambda(self.sampling, output_shape=(self.latent_dim,), name='z')([self.z_mean, self.z_log_var])\n",
        "\n",
        "    # instantiate encoder model\n",
        "    self.encoder = keras.models.Model(self.inputs, [self.z_mean, self.z_log_var, self.z], name='encoder')\n",
        "\n",
        "\n",
        "  def build_decoder(self):\n",
        "    latent_inputs = keras.layers.Input(shape=(self.latent_dim,), name='z_sampling')\n",
        "    x = keras.layers.Dense(self.intermediate_dim, activation='relu')(latent_inputs)\n",
        "    outputs = keras.layers.Dense(self.original_dim, activation='sigmoid')(x)\n",
        "\n",
        "    # instantiate decoder model\n",
        "    self.decoder = keras.models.Model(latent_inputs, outputs, name='decoder')\n",
        "\n",
        "  def add_loss(self):\n",
        "    # VAE loss = mse_loss or xent_loss + kl_loss\n",
        "    reconstruction_loss = keras.losses.mse(self.inputs, self.outputs)\n",
        "    reconstruction_loss *= self.original_dim\n",
        "\n",
        "    kl_loss = 1 + self.z_log_var - K.square(self.z_mean) - K.exp(self.z_log_var)\n",
        "    kl_loss = K.sum(kl_loss, axis=-1)\n",
        "    kl_loss *= -0.5\n",
        "\n",
        "    vae_loss = K.mean(reconstruction_loss + kl_loss)\n",
        "\n",
        "    self.vae.add_loss(vae_loss)"
      ],
      "execution_count": 0,
      "outputs": []
    },
    {
      "cell_type": "markdown",
      "metadata": {
        "id": "mNrEr-wpZKUC",
        "colab_type": "text"
      },
      "source": [
        "# WandB and Callbacks"
      ]
    },
    {
      "cell_type": "code",
      "metadata": {
        "id": "3UEJlm4ip0oJ",
        "colab_type": "code",
        "colab": {}
      },
      "source": [
        "class ReconstructionLogger(tf.keras.callbacks.Callback):\n",
        "  def __init__(self, batch_size):\n",
        "    self.batch_size = batch_size\n",
        "\n",
        "    super(ReconstructionLogger, self).__init__()\n",
        "\n",
        "  def on_epoch_end(self, logs, epoch):\n",
        "    sample_images = test_img[:self.batch_size]\n",
        "    \n",
        "    images = []\n",
        "    reconstructions = []\n",
        "    \n",
        "    for i in range(32):\n",
        "        reconstruction = self.model.predict(sample_images[i].reshape((1,)+sample_images[i].shape))\n",
        "\n",
        "        images.append(sample_images[i].reshape(28,28))\n",
        "        reconstructions.append(reconstruction.reshape(28,28))\n",
        "\n",
        "    wandb.log({\"images\": [wandb.Image(image)\n",
        "                          for image in images]})\n",
        "    wandb.log({\"reconstructions\": [wandb.Image(reconstruction)\n",
        "                          for reconstruction in reconstructions]})"
      ],
      "execution_count": 0,
      "outputs": []
    },
    {
      "cell_type": "markdown",
      "metadata": {
        "id": "TSmoIktbZO62",
        "colab_type": "text"
      },
      "source": [
        "# Sweep Train "
      ]
    },
    {
      "cell_type": "code",
      "metadata": {
        "id": "9kOA4UVgZs-X",
        "colab_type": "code",
        "colab": {}
      },
      "source": [
        "def train():\n",
        "    # Initialize wandb with a sample project name\n",
        "    wandb.init(entity='ayush-thakur', project=\"keras-gan\")\n",
        "    \n",
        "    (X_train, y_train) = train_img, train_label\n",
        "    (X_test, y_test) = test_img, test_label\n",
        "\n",
        "    # Specify the hyperparameter to be tuned along with\n",
        "    # an initial value\n",
        "    configs = {\n",
        "        'latent_space': 2\n",
        "    }\n",
        "    \n",
        "    # Specify the other hyperparameters to the configuration\n",
        "    config = wandb.config\n",
        "    config.batch_size = 32\n",
        "    config.epochs = 10\n",
        "    \n",
        "    # Add the config item (layers) to wandb\n",
        "    if wandb.run:\n",
        "        wandb.config.update({k: v for k, v in configs.items() if k not in dict(wandb.config.user_items())})\n",
        "        configs = dict(wandb.config.user_items())\n",
        "    \n",
        "    # Define the model\n",
        "    vae = VariationalAutoencoder(input_shape=(784), \n",
        "                               original_dim=(784), \n",
        "                               intermediate_dim=512,\n",
        "                               latent_dim=wandb.config.latent_space)\n",
        "    model = vae.build_model()\n",
        "    \n",
        "    # Compile the model\n",
        "    model.compile(optimizer='adam')\n",
        "    \n",
        "    # Train the model\n",
        "    _ = model.fit(X_train,\n",
        "              X_train, \n",
        "              epochs=config.epochs,\n",
        "              batch_size=config.batch_size,\n",
        "              callbacks=[WandbCallback(),\n",
        "                         ReconstructionLogger(config.batch_size)])"
      ],
      "execution_count": 0,
      "outputs": []
    },
    {
      "cell_type": "code",
      "metadata": {
        "id": "TI_JI2HBZs10",
        "colab_type": "code",
        "colab": {}
      },
      "source": [
        "sweep_config = {\n",
        "  'method': 'grid',\n",
        "  'parameters': {\n",
        "      'latent_space': {\n",
        "          'values': [2, 10, 100]\n",
        "      }\n",
        "  }\n",
        "}"
      ],
      "execution_count": 0,
      "outputs": []
    },
    {
      "cell_type": "code",
      "metadata": {
        "id": "LWpCLwGqncdF",
        "colab_type": "code",
        "outputId": "4ac7efe0-6a7a-4109-daa3-151cbff3e7d0",
        "colab": {
          "base_uri": "https://localhost:8080/",
          "height": 54
        }
      },
      "source": [
        "sweep_id = wandb.sweep(sweep_config, entity='ayush-thakur', project=\"keras-gan\")"
      ],
      "execution_count": 0,
      "outputs": [
        {
          "output_type": "stream",
          "text": [
            "Create sweep with ID: jpa4wcus\n",
            "Sweep URL: https://app.wandb.ai/ayush-thakur/keras-gan/sweeps/jpa4wcus\n"
          ],
          "name": "stdout"
        }
      ]
    },
    {
      "cell_type": "code",
      "metadata": {
        "id": "goZ3Z7A8nbpn",
        "colab_type": "code",
        "outputId": "183d8ec2-3260-4dc6-ae31-4b2a6142474e",
        "colab": {
          "base_uri": "https://localhost:8080/",
          "height": 1000
        }
      },
      "source": [
        "wandb.agent(sweep_id, function=train)"
      ],
      "execution_count": 0,
      "outputs": [
        {
          "output_type": "stream",
          "text": [
            "wandb: Agent Starting Run: dpbmghtj with config:\n",
            "\tlatent_space: 2\n",
            "wandb: Agent Started Run: dpbmghtj\n"
          ],
          "name": "stdout"
        },
        {
          "output_type": "display_data",
          "data": {
            "text/html": [
              "\n",
              "                Logging results to <a href=\"https://wandb.com\" target=\"_blank\">Weights & Biases</a> <a href=\"https://docs.wandb.com/integrations/jupyter.html\" target=\"_blank\">(Documentation)</a>.<br/>\n",
              "                Project page: <a href=\"https://app.wandb.ai/ayush-thakur/keras-gan\" target=\"_blank\">https://app.wandb.ai/ayush-thakur/keras-gan</a><br/>\n",
              "                Sweep page: <a href=\"https://app.wandb.ai/ayush-thakur/keras-gan/sweeps/jpa4wcus\" target=\"_blank\">https://app.wandb.ai/ayush-thakur/keras-gan/sweeps/jpa4wcus</a><br/>\n",
              "Run page: <a href=\"https://app.wandb.ai/ayush-thakur/keras-gan/runs/dpbmghtj\" target=\"_blank\">https://app.wandb.ai/ayush-thakur/keras-gan/runs/dpbmghtj</a><br/>\n",
              "            "
            ],
            "text/plain": [
              "<IPython.core.display.HTML object>"
            ]
          },
          "metadata": {
            "tags": []
          }
        },
        {
          "output_type": "stream",
          "text": [
            "Epoch 1/10\n",
            "1875/1875 [==============================] - 5s 3ms/step - loss: 45.8759\n",
            "Epoch 2/10\n",
            "1875/1875 [==============================] - 5s 3ms/step - loss: 41.9013\n",
            "Epoch 3/10\n",
            "1875/1875 [==============================] - 5s 2ms/step - loss: 40.9854\n",
            "Epoch 4/10\n",
            "1875/1875 [==============================] - 5s 2ms/step - loss: 40.3775\n",
            "Epoch 5/10\n",
            "1875/1875 [==============================] - 5s 3ms/step - loss: 39.9124\n",
            "Epoch 6/10\n",
            "1875/1875 [==============================] - 5s 3ms/step - loss: 39.5278\n",
            "Epoch 7/10\n",
            "1875/1875 [==============================] - 5s 2ms/step - loss: 39.1987\n",
            "Epoch 8/10\n",
            "1875/1875 [==============================] - 5s 3ms/step - loss: 38.9309\n",
            "Epoch 9/10\n",
            "1875/1875 [==============================] - 5s 2ms/step - loss: 38.6799\n",
            "Epoch 10/10\n",
            "1875/1875 [==============================] - 5s 2ms/step - loss: 38.5134\n",
            "wandb: Agent Finished Run: dpbmghtj \n",
            "\n",
            "wandb: Agent Starting Run: qs0ixe8m with config:\n",
            "\tlatent_space: 10\n",
            "wandb: Agent Started Run: qs0ixe8m\n"
          ],
          "name": "stdout"
        },
        {
          "output_type": "display_data",
          "data": {
            "text/html": [
              "\n",
              "                Logging results to <a href=\"https://wandb.com\" target=\"_blank\">Weights & Biases</a> <a href=\"https://docs.wandb.com/integrations/jupyter.html\" target=\"_blank\">(Documentation)</a>.<br/>\n",
              "                Project page: <a href=\"https://app.wandb.ai/ayush-thakur/keras-gan\" target=\"_blank\">https://app.wandb.ai/ayush-thakur/keras-gan</a><br/>\n",
              "                Sweep page: <a href=\"https://app.wandb.ai/ayush-thakur/keras-gan/sweeps/jpa4wcus\" target=\"_blank\">https://app.wandb.ai/ayush-thakur/keras-gan/sweeps/jpa4wcus</a><br/>\n",
              "Run page: <a href=\"https://app.wandb.ai/ayush-thakur/keras-gan/runs/qs0ixe8m\" target=\"_blank\">https://app.wandb.ai/ayush-thakur/keras-gan/runs/qs0ixe8m</a><br/>\n",
              "            "
            ],
            "text/plain": [
              "<IPython.core.display.HTML object>"
            ]
          },
          "metadata": {
            "tags": []
          }
        },
        {
          "output_type": "stream",
          "text": [
            "Epoch 1/10\n",
            "1875/1875 [==============================] - 5s 3ms/step - loss: 38.3108\n",
            "Epoch 2/10\n",
            "1875/1875 [==============================] - 5s 2ms/step - loss: 32.6011\n",
            "Epoch 3/10\n",
            "1875/1875 [==============================] - 5s 2ms/step - loss: 31.7226\n",
            "Epoch 4/10\n",
            "1875/1875 [==============================] - 5s 3ms/step - loss: 31.2776\n",
            "Epoch 5/10\n",
            "1875/1875 [==============================] - 5s 3ms/step - loss: 30.9187\n",
            "Epoch 6/10\n",
            "1875/1875 [==============================] - 5s 2ms/step - loss: 30.6243\n",
            "Epoch 7/10\n",
            "1875/1875 [==============================] - 4s 2ms/step - loss: 30.3862\n",
            "Epoch 8/10\n",
            "1875/1875 [==============================] - 5s 2ms/step - loss: 30.1878\n",
            "Epoch 9/10\n",
            "1875/1875 [==============================] - 5s 2ms/step - loss: 30.0254\n",
            "Epoch 10/10\n",
            "1875/1875 [==============================] - 5s 3ms/step - loss: 29.8815\n",
            "wandb: Agent Finished Run: qs0ixe8m \n",
            "\n",
            "wandb: Agent Starting Run: 44vn6ipu with config:\n",
            "\tlatent_space: 100\n",
            "wandb: Agent Started Run: 44vn6ipu\n"
          ],
          "name": "stdout"
        },
        {
          "output_type": "display_data",
          "data": {
            "text/html": [
              "\n",
              "                Logging results to <a href=\"https://wandb.com\" target=\"_blank\">Weights & Biases</a> <a href=\"https://docs.wandb.com/integrations/jupyter.html\" target=\"_blank\">(Documentation)</a>.<br/>\n",
              "                Project page: <a href=\"https://app.wandb.ai/ayush-thakur/keras-gan\" target=\"_blank\">https://app.wandb.ai/ayush-thakur/keras-gan</a><br/>\n",
              "                Sweep page: <a href=\"https://app.wandb.ai/ayush-thakur/keras-gan/sweeps/jpa4wcus\" target=\"_blank\">https://app.wandb.ai/ayush-thakur/keras-gan/sweeps/jpa4wcus</a><br/>\n",
              "Run page: <a href=\"https://app.wandb.ai/ayush-thakur/keras-gan/runs/44vn6ipu\" target=\"_blank\">https://app.wandb.ai/ayush-thakur/keras-gan/runs/44vn6ipu</a><br/>\n",
              "            "
            ],
            "text/plain": [
              "<IPython.core.display.HTML object>"
            ]
          },
          "metadata": {
            "tags": []
          }
        },
        {
          "output_type": "stream",
          "text": [
            "Epoch 1/10\n",
            "1875/1875 [==============================] - 5s 3ms/step - loss: 43.0656\n",
            "Epoch 2/10\n",
            "1875/1875 [==============================] - 5s 3ms/step - loss: 35.7577\n",
            "Epoch 3/10\n",
            "1875/1875 [==============================] - 5s 2ms/step - loss: 33.3165\n",
            "Epoch 4/10\n",
            "1875/1875 [==============================] - 5s 3ms/step - loss: 32.4275\n",
            "Epoch 5/10\n",
            "1875/1875 [==============================] - 5s 3ms/step - loss: 31.9325\n",
            "Epoch 6/10\n",
            "1875/1875 [==============================] - 5s 2ms/step - loss: 31.5640\n",
            "Epoch 7/10\n",
            "1875/1875 [==============================] - 5s 2ms/step - loss: 31.2544\n",
            "Epoch 8/10\n",
            "1875/1875 [==============================] - 5s 2ms/step - loss: 31.0762\n",
            "Epoch 9/10\n",
            "1875/1875 [==============================] - 5s 2ms/step - loss: 30.8869\n",
            "Epoch 10/10\n",
            "1875/1875 [==============================] - 5s 3ms/step - loss: 30.7214\n",
            "wandb: Agent Finished Run: 44vn6ipu \n",
            "\n"
          ],
          "name": "stdout"
        }
      ]
    },
    {
      "cell_type": "code",
      "metadata": {
        "id": "6in5d6ZeQrVm",
        "colab_type": "code",
        "colab": {}
      },
      "source": [
        ""
      ],
      "execution_count": 0,
      "outputs": []
    }
  ]
}